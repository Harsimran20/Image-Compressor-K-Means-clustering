{
 "cells": [
  {
   "cell_type": "code",
   "execution_count": 2,
   "id": "a54af4e0-a9ca-41b5-b210-35729e4c5dc6",
   "metadata": {},
   "outputs": [],
   "source": [
    "from matplotlib import pyplot as plt\n",
    "import numpy as np\n",
    "from sklearn.cluster import KMeans\n",
    "from PIL import Image\n",
    "\n",
    "image = Image.open(\"C:/Users/ACER/Downloads/f477b41a-5ff2-4194-846a-c355d7390c37.jfif\")\n",
    "image = image.resize((256, 256))  # Optional resizing\n",
    "img_array = np.array(image)"
   ]
  },
  {
   "cell_type": "code",
   "execution_count": 4,
   "id": "6c4d5f0a-b981-4f92-8490-80688b1fdc4b",
   "metadata": {},
   "outputs": [],
   "source": [
    "pixels = img_array.reshape(-1, 3)\n"
   ]
  },
  {
   "cell_type": "code",
   "execution_count": 6,
   "id": "23cab990-e6b3-4d78-a735-05746f68a973",
   "metadata": {},
   "outputs": [],
   "source": [
    "k = 16\n",
    "kmeans = KMeans(n_clusters=k, random_state=42)\n",
    "kmeans.fit(pixels)\n",
    "compressed_pixels = kmeans.cluster_centers_[kmeans.labels_]\n",
    "compressed_img = compressed_pixels.reshape(img_array.shape).astype(np.uint8)\n"
   ]
  },
  {
   "cell_type": "code",
   "execution_count": 16,
   "id": "0b256388-34d5-4d51-a33b-aa0d154c03f6",
   "metadata": {},
   "outputs": [],
   "source": [
    "compressed_image = Image.fromarray(compressed_img)\n",
    "compressed_image.save(\"compressed_image.jpg\")"
   ]
  },
  {
   "cell_type": "code",
   "execution_count": 18,
   "id": "48434175-a077-458f-ae9d-f6847358844d",
   "metadata": {},
   "outputs": [],
   "source": [
    "from PIL import Image\n",
    "compressed = Image.open(\"compressed_image.jpg\")\n",
    "compressed.show()  "
   ]
  },
  {
   "cell_type": "code",
   "execution_count": 20,
   "id": "27d4cf2c-eb7f-4d38-a3ab-91da6183f603",
   "metadata": {},
   "outputs": [
    {
     "ename": "FileNotFoundError",
     "evalue": "[WinError 2] The system cannot find the file specified: 'image.jpg'",
     "output_type": "error",
     "traceback": [
      "\u001b[1;31m---------------------------------------------------------------------------\u001b[0m",
      "\u001b[1;31mFileNotFoundError\u001b[0m                         Traceback (most recent call last)",
      "Cell \u001b[1;32mIn[20], line 3\u001b[0m\n\u001b[0;32m      1\u001b[0m \u001b[38;5;28;01mimport\u001b[39;00m \u001b[38;5;21;01mos\u001b[39;00m\n\u001b[1;32m----> 3\u001b[0m original_size \u001b[38;5;241m=\u001b[39m os\u001b[38;5;241m.\u001b[39mpath\u001b[38;5;241m.\u001b[39mgetsize(\u001b[38;5;124m\"\u001b[39m\u001b[38;5;124mimage.jpg\u001b[39m\u001b[38;5;124m\"\u001b[39m)\n\u001b[0;32m      4\u001b[0m compressed_size \u001b[38;5;241m=\u001b[39m os\u001b[38;5;241m.\u001b[39mpath\u001b[38;5;241m.\u001b[39mgetsize(\u001b[38;5;124m\"\u001b[39m\u001b[38;5;124mcompressed_image.jpg\u001b[39m\u001b[38;5;124m\"\u001b[39m)\n\u001b[0;32m      6\u001b[0m \u001b[38;5;28mprint\u001b[39m(\u001b[38;5;124mf\u001b[39m\u001b[38;5;124m\"\u001b[39m\u001b[38;5;124mOriginal Size: \u001b[39m\u001b[38;5;132;01m{\u001b[39;00moriginal_size\u001b[38;5;250m \u001b[39m\u001b[38;5;241m/\u001b[39m\u001b[38;5;250m \u001b[39m\u001b[38;5;241m1024\u001b[39m\u001b[38;5;132;01m:\u001b[39;00m\u001b[38;5;124m.2f\u001b[39m\u001b[38;5;132;01m}\u001b[39;00m\u001b[38;5;124m KB\u001b[39m\u001b[38;5;124m\"\u001b[39m)\n",
      "File \u001b[1;32m<frozen genericpath>:62\u001b[0m, in \u001b[0;36mgetsize\u001b[1;34m(filename)\u001b[0m\n",
      "\u001b[1;31mFileNotFoundError\u001b[0m: [WinError 2] The system cannot find the file specified: 'image.jpg'"
     ]
    }
   ],
   "source": [
    "import os\n",
    "\n",
    "original_size = os.path.getsize(\"image.jpg\")\n",
    "compressed_size = os.path.getsize(\"compressed_image.jpg\")\n",
    "\n",
    "print(f\"Original Size: {original_size / 1024:.2f} KB\")\n",
    "print(f\"Compressed Size: {compressed_size / 1024:.2f} KB\")\n"
   ]
  },
  {
   "cell_type": "code",
   "execution_count": null,
   "id": "cc32d41e-a565-4282-941b-b2676db9a0d7",
   "metadata": {},
   "outputs": [],
   "source": []
  }
 ],
 "metadata": {
  "kernelspec": {
   "display_name": "Python [conda env:base] *",
   "language": "python",
   "name": "conda-base-py"
  },
  "language_info": {
   "codemirror_mode": {
    "name": "ipython",
    "version": 3
   },
   "file_extension": ".py",
   "mimetype": "text/x-python",
   "name": "python",
   "nbconvert_exporter": "python",
   "pygments_lexer": "ipython3",
   "version": "3.12.7"
  }
 },
 "nbformat": 4,
 "nbformat_minor": 5
}
